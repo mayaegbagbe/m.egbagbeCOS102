{
 "cells": [
  {
   "cell_type": "code",
   "execution_count": 2,
   "id": "6aef6649-cd23-49f6-8b13-444498dd2eaf",
   "metadata": {},
   "outputs": [
    {
     "name": "stdin",
     "output_type": "stream",
     "text": [
      "Enter your state of origin edo\n"
     ]
    },
    {
     "name": "stdout",
     "output_type": "stream",
     "text": [
      "Your state of origin is:  edo\n",
      "The first character is:  e\n",
      "The characters starting from 3rd to 5th are:  o\n",
      "The string starting from 3rd charachter is:  o\n",
      "State of origin two times edoedo\n"
     ]
    }
   ],
   "source": [
    "str = input(\"Enter your state of origin\")\n",
    "\n",
    "print(\"Your state of origin is: \",str)\n",
    "print(\"The first character is: \",str[0])\n",
    "print(\"The characters starting from 3rd to 5th are: \",str[2:5])\n",
    "print(\"The string starting from 3rd charachter is: \",str[2:])\n",
    "print(\"State of origin two times\", str * 2) \n"
   ]
  },
  {
   "cell_type": "code",
   "execution_count": 3,
   "id": "ee9d81a2-7c28-4831-9767-782f9c76d1b5",
   "metadata": {},
   "outputs": [
    {
     "name": "stdin",
     "output_type": "stream",
     "text": [
      "Enter mass in kilograms:  16\n"
     ]
    },
    {
     "name": "stdout",
     "output_type": "stream",
     "text": [
      "The energy eqivalent to 16.0 kg of mass is 1.4380082859789082e+18 joules.\n"
     ]
    }
   ],
   "source": [
    "# Input from user \n",
    "m = float (input(\"Enter mass in kilograms: \"))\n",
    "\n",
    "# constant value for the speed for the light in m/s \n",
    "c = 299792458 \n",
    "\n",
    "#calculating enery using Einsteen's equation \n",
    "energy = m * c ** 2\n",
    "\n",
    "#Displaying the result \n",
    "print (f\"The energy eqivalent to {m} kg of mass is {energy} joules.\")\n",
    "\n",
    "\n"
   ]
  },
  {
   "cell_type": "code",
   "execution_count": 6,
   "id": "3388a470-7f88-42c7-a326-0f3d0d78cd61",
   "metadata": {},
   "outputs": [
    {
     "name": "stdout",
     "output_type": "stream",
     "text": [
      "['Anaconda', 786, 2.23, 'Jupyter', 70.2]\n",
      "Anaconda\n",
      "[786, 2.23]\n",
      "[2.23, 'Jupyter', 70.2]\n",
      "[321, 'python', 321, 'python']\n",
      "['Anaconda', 786, 2.23, 'Jupyter', 70.2, 321, 'python']\n"
     ]
    }
   ],
   "source": [
    "list = [ 'Anaconda', 786 , 2.23, 'Jupyter', 70.2 ]\n",
    "shortlist = [321, 'python']\n",
    "\n",
    "print(list)        #Prints complete list\n",
    "print(list[0])    #Prints first element of the list\n",
    "print(list[1:3])  #Prints elements starting from 2nd till 3rd\n",
    "print(list[2:])     #Prints elements starting from 3rd element\n",
    "print(shortlist * 2)   #Prints list two times\n",
    "print(list + shortlist) #Prints concatenated lists"
   ]
  },
  {
   "cell_type": "code",
   "execution_count": 9,
   "id": "aaff46bb-bec5-4100-b7e7-0af89a37ccdf",
   "metadata": {},
   "outputs": [
    {
     "name": "stdout",
     "output_type": "stream",
     "text": [
      "('Ekiti', 750, 'Oshogbo', 250, 'Akure', 500)\n",
      "500\n",
      "('Oshogbo', 250)\n",
      "(250, 'Akure', 500)\n",
      "('Abeokuta', 300, 'Ogbomoso', 'Abeokuta', 300, 'Ogbomoso', 'Abeokuta', 300, 'Ogbomoso')\n"
     ]
    }
   ],
   "source": [
    "tuple = (\"Ekiti\", 750, 'Oshogbo', 250, \"Akure\", 500)\n",
    "s_tuple = (\"Abeokuta\", 300, \"Ogbomoso\")\n",
    "\n",
    "#prints the complete the tuple \n",
    "print (tuple)\n",
    "\n",
    "#prints last element of the tuple \n",
    "print (tuple[-1])\n",
    "\n",
    "#prints elements of the tuple starting from 2nd till 3rd\n",
    "print (tuple[2:4])\n",
    "\n",
    "#prints elements of the tuple starting from 3rd element \n",
    "print (tuple[3:])\n",
    "\n",
    "#prints the contents of the tuple twice \n",
    "print (s_tuple *3)"
   ]
  },
  {
   "cell_type": "code",
   "execution_count": 10,
   "id": "bc2c2564-f3c2-4481-8f6b-e605ffb1a4e1",
   "metadata": {},
   "outputs": [
    {
     "name": "stdout",
     "output_type": "stream",
     "text": [
      "False\n",
      "False\n",
      "False\n",
      "False\n",
      "True\n"
     ]
    }
   ],
   "source": [
    "#Returns false as game_1 is not equal to game_2\n",
    "game_1 = 2 \n",
    "game_2 = 4\n",
    "print(bool(game_1 == game_2))\n",
    "#Or\n",
    "print(game_1 == game_2)\n",
    "\n",
    "#Returns False as val is None \n",
    "val = None \n",
    "print(bool(val))\n",
    "\n",
    "#Returns false as num is an empty sequence \n",
    "num = ()\n",
    "print(bool(num))\n",
    "\n",
    "#Returns true as age is boolean\n",
    "age = True \n",
    "print(bool(age))"
   ]
  },
  {
   "cell_type": "code",
   "execution_count": 12,
   "id": "71d5963f-f11c-4664-91ff-b30eda4f72f7",
   "metadata": {},
   "outputs": [
    {
     "name": "stdout",
     "output_type": "stream",
     "text": [
      "Grade = 70\n",
      "GPA = 4\n",
      "CGPA = 4\n"
     ]
    }
   ],
   "source": [
    "#convert to int \n",
    "\n",
    "grade = int(70)       #grade will be 70 \n",
    "gpa = int(4.9)        #gpa will be 4.9\n",
    "cgpa = int(\"4\")        #cgpa will be 4\n",
    "\n",
    "print(f\"Grade = {grade}\")\n",
    "print(f\"GPA = {gpa}\")\n",
    "print(f\"CGPA = {cgpa}\")"
   ]
  },
  {
   "cell_type": "code",
   "execution_count": 13,
   "id": "9a4c62d3-e059-4b90-8db8-f8a2bcfe70a8",
   "metadata": {},
   "outputs": [
    {
     "name": "stdout",
     "output_type": "stream",
     "text": [
      "Grade = 97.0\n",
      "Gpa = 5.0\n",
      "Cgpa = 4.7\n"
     ]
    }
   ],
   "source": [
    "#Convert to float \n",
    "\n",
    "grade = float(97)\n",
    "gpa = float(5)\n",
    "cgpa = float(\"4.7\")\n",
    "\n",
    "print(f\"Grade = {grade}\")\n",
    "print(f\"Gpa = {gpa}\") \n",
    "print(f\"Cgpa = {cgpa}\")"
   ]
  },
  {
   "cell_type": "code",
   "execution_count": null,
   "id": "72575a1a-fa84-4c50-b086-c14aff85c06a",
   "metadata": {},
   "outputs": [],
   "source": []
  }
 ],
 "metadata": {
  "kernelspec": {
   "display_name": "Python 3 (ipykernel)",
   "language": "python",
   "name": "python3"
  },
  "language_info": {
   "codemirror_mode": {
    "name": "ipython",
    "version": 3
   },
   "file_extension": ".py",
   "mimetype": "text/x-python",
   "name": "python",
   "nbconvert_exporter": "python",
   "pygments_lexer": "ipython3",
   "version": "3.11.7"
  }
 },
 "nbformat": 4,
 "nbformat_minor": 5
}
