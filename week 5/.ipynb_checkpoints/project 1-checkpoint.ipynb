{
 "cells": [
  {
   "cell_type": "code",
   "execution_count": 7,
   "id": "5aeef0b2-28fb-406c-9617-089b4f02d2cb",
   "metadata": {},
   "outputs": [],
   "source": [
    "#configurations\n",
    "import tkinter as tk\n",
    "from tkinter import messagebox as msgbox\n",
    "from PIL import Image, ImageTk\n",
    "import csv\n",
    "import tabulate\n",
    "from tabulate import tabulate"
   ]
  },
  {
   "cell_type": "code",
   "execution_count": null,
   "id": "3d024938-ae24-425a-a0a3-1d3859b21e6f",
   "metadata": {},
   "outputs": [],
   "source": [
    "def displayinfo(firstname,surname,department):\n",
    "    employees = [[]]\n",
    "    with open('GIG-logistics.csv', 'r') as data:\n",
    "        for line in csv.DictReader(data):\n",
    "            if line['DEPARTMENT'].lower() == department.lower():\n",
    "                employees.append([ line['SURNAME'] , line['FIRST NAME']])\n",
    "    col_names = [\"SURNAME\", \"FIRSTNAME\"]\n",
    "    info = tabulate(employees, headers=col_names, tablefmt=\"fancy_grid\", showindex=\"always\")\n",
    "\n",
    "    window = tk.Toplevel(root)\n",
    "    window.title(f\"{department} Employee List\")\n",
    "    window.geometry('1000x500')\n",
    "    label_1 = tk.Label(window, text=f\"Welcome {firstname} {surname}\")\n",
    "    label_1.pack()\n",
    "    T = tk.Text(window) \n",
    "    T.insert(tk.END, info)  \n",
    "    T.pack()\n",
    "    "
   ]
  },
  {
   "cell_type": "code",
   "execution_count": 6,
   "id": "87f44c76-391c-49d0-b3c2-58231a9949bd",
   "metadata": {},
   "outputs": [],
   "source": [
    "def submit():\n",
    "    firstname = firstname_entry.get()\n",
    "    lastname = lastname_entry.get()\n",
    "    department = department_entry.get()\n",
    "    is_present = False\n",
    "    with open('GIG-logistics.csv', 'r') as data:\n",
    "         for line in csv.DictReader(data):\n",
    "             if line['SURNAME'] == lastname.upper() and line['FIRST NAME'].lower() == firstname.lower() and line['DEPARTMENT'].lower() == department.lower():\n",
    "                 is_present = True\n",
    "                 break\n",
    "\n",
    "    if is_present:\n",
    "         displayinfo(firstname,lastname,department)\n",
    "    else:\n",
    "         \n",
    "         msgbox.showerror(\"Employee Status\", f\"Sorry, {lastname} {firstname} is not an employee in the {department} department \")\n",
    "    \n",
    "    "
   ]
  },
  {
   "cell_type": "code",
   "execution_count": 13,
   "id": "211677ab-a452-422e-8344-1d5aca0ac47e",
   "metadata": {},
   "outputs": [],
   "source": [
    "import tkinter as tk \n",
    "\n",
    "root = tk.Tk()\n",
    "root.title(\"Login Form\")\n",
    "root.geometry(\"500x200\")\n",
    "\n",
    "\n",
    "# Create firstname label and entry \n",
    "\n",
    "firstname_label = tk.Label(root, text=\"firstname:\")\n",
    "firstname_label.pack()\n",
    "firstname_entry = tk.Entry(root)\n",
    "firstname_entry.pack()\n",
    "\n",
    "# Create lastname label and entry \n",
    "lastname_label = tk.Label(root, text=\"lastname:\")\n",
    "lastname_label.pack()\n",
    "lastname_entry = tk.Entry(root)\n",
    "lastname_entry.pack()\n",
    "\n",
    "# Create department label and entry \n",
    "department_label = tk.Label(root, text=\"department:\")\n",
    "department_label.pack()\n",
    "department_entry = tk.Entry(root, show =\"*\")\n",
    "department_entry.pack()\n",
    "\n",
    "\n",
    "# Create submit button \n",
    "submit_button = tk.Button(root, text=\"Submit\", command=submit)\n",
    "submit_button.pack()\n",
    "\n",
    "#Run the main event loop \n",
    "root.mainloop()\n",
    "                          "
   ]
  },
  {
   "cell_type": "code",
   "execution_count": null,
   "id": "2631d1f0-9afc-47fc-87e0-4d61cb433d14",
   "metadata": {},
   "outputs": [],
   "source": []
  }
 ],
 "metadata": {
  "kernelspec": {
   "display_name": "Python 3 (ipykernel)",
   "language": "python",
   "name": "python3"
  },
  "language_info": {
   "codemirror_mode": {
    "name": "ipython",
    "version": 3
   },
   "file_extension": ".py",
   "mimetype": "text/x-python",
   "name": "python",
   "nbconvert_exporter": "python",
   "pygments_lexer": "ipython3",
   "version": "3.11.7"
  }
 },
 "nbformat": 4,
 "nbformat_minor": 5
}
