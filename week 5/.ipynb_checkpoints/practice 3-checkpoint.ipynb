{
 "cells": [
  {
   "cell_type": "code",
   "execution_count": 7,
   "id": "71ea97f0-7518-471c-83e3-79b9d6899610",
   "metadata": {},
   "outputs": [],
   "source": [
    "def changeme( mylist ):\n",
    "    #This changes a passed list \n",
    "    mylist = [1,2,3,4];\n",
    "    print(\"Values inside the functio: \",mylist)\n",
    "    return\n",
    "    mylist = [10,20,30];\n",
    "    changeme( mylist );\n",
    "    print(\"Vallues outside the function: \",mylist)\n",
    "    "
   ]
  },
  {
   "cell_type": "code",
   "execution_count": null,
   "id": "0cf196fc-efa7-4ef6-8550-4f75c00b30f9",
   "metadata": {},
   "outputs": [],
   "source": []
  }
 ],
 "metadata": {
  "kernelspec": {
   "display_name": "Python 3 (ipykernel)",
   "language": "python",
   "name": "python3"
  },
  "language_info": {
   "codemirror_mode": {
    "name": "ipython",
    "version": 3
   },
   "file_extension": ".py",
   "mimetype": "text/x-python",
   "name": "python",
   "nbconvert_exporter": "python",
   "pygments_lexer": "ipython3",
   "version": "3.11.7"
  }
 },
 "nbformat": 4,
 "nbformat_minor": 5
}
