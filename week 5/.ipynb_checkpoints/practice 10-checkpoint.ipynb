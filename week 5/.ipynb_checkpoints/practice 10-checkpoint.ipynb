{
 "cells": [
  {
   "cell_type": "code",
   "execution_count": 6,
   "id": "569af731-7fc7-4cfa-923d-b12cf4b05ecc",
   "metadata": {},
   "outputs": [
    {
     "ename": "AttributeError",
     "evalue": "module 'tkinter' has no attribute 'label'",
     "output_type": "error",
     "traceback": [
      "\u001b[1;31m---------------------------------------------------------------------------\u001b[0m",
      "\u001b[1;31mAttributeError\u001b[0m                            Traceback (most recent call last)",
      "Cell \u001b[1;32mIn[6], line 19\u001b[0m\n\u001b[0;32m     16\u001b[0m root\u001b[38;5;241m.\u001b[39mgeometry(\u001b[38;5;124m\"\u001b[39m\u001b[38;5;124m300x100\u001b[39m\u001b[38;5;124m\"\u001b[39m)\n\u001b[0;32m     18\u001b[0m \u001b[38;5;66;03m#Add a label widget \u001b[39;00m\n\u001b[1;32m---> 19\u001b[0m label \u001b[38;5;241m=\u001b[39m tk\u001b[38;5;241m.\u001b[39mlabel(root, text\u001b[38;5;241m=\u001b[39m\u001b[38;5;124m\"\u001b[39m\u001b[38;5;124mHello friend\u001b[39m\u001b[38;5;130;01m\\n\u001b[39;00m\u001b[38;5;124m\"\u001b[39m)\n\u001b[0;32m     20\u001b[0m label\u001b[38;5;241m.\u001b[39mpack()\n\u001b[0;32m     22\u001b[0m \u001b[38;5;66;03m#Add a button widget\u001b[39;00m\n",
      "\u001b[1;31mAttributeError\u001b[0m: module 'tkinter' has no attribute 'label'"
     ]
    }
   ],
   "source": [
    "import tkinter as tk\n",
    "\n",
    "#Handling button click event\n",
    "def button_click():\n",
    "    #print(\"Button clicked!\")\n",
    "\n",
    "    #Show an information message box \n",
    "    msgbox.showinfo(\"Info\", \"Welcome to COS 102 GUI App\\n\")\n",
    "  \n",
    "    #Ask for user confirmation \n",
    "    result = msgbox.askyesno(\"Confirmation\", \"Do you want to continue?\")\n",
    "\n",
    "#Create the main window \n",
    "root = tk.Tk()\n",
    "root.title(\"Home Page\")\n",
    "root.geometry(\"300x100\")\n",
    "\n",
    "#Add a label widget \n",
    "label = tk.label(root, text=\"Hello friend\\n\")\n",
    "label.pack()\n",
    "\n",
    "#Add a button widget\n",
    "button = tk.button(root, text=\"Click Me!\", command=button_cick)\n",
    "button.pack()\n",
    "\n",
    "\n",
    "#Styling the button  widget \n",
    "button.config(fg=\"red\", bg=\"yellow\")\n",
    "\n",
    "#Start the event loop\n",
    "root.mainloop()\n"
   ]
  },
  {
   "cell_type": "code",
   "execution_count": null,
   "id": "5511ff8c-3037-4fb2-a6ce-4eb5c3b783a8",
   "metadata": {},
   "outputs": [],
   "source": []
  },
  {
   "cell_type": "code",
   "execution_count": null,
   "id": "1e43f912-e799-411e-b045-74225dec9845",
   "metadata": {},
   "outputs": [],
   "source": []
  },
  {
   "cell_type": "code",
   "execution_count": null,
   "id": "4d8b9447-96fc-49fc-ac5e-d6647c885c2c",
   "metadata": {},
   "outputs": [],
   "source": []
  }
 ],
 "metadata": {
  "kernelspec": {
   "display_name": "Python 3 (ipykernel)",
   "language": "python",
   "name": "python3"
  },
  "language_info": {
   "codemirror_mode": {
    "name": "ipython",
    "version": 3
   },
   "file_extension": ".py",
   "mimetype": "text/x-python",
   "name": "python",
   "nbconvert_exporter": "python",
   "pygments_lexer": "ipython3",
   "version": "3.11.7"
  }
 },
 "nbformat": 4,
 "nbformat_minor": 5
}
