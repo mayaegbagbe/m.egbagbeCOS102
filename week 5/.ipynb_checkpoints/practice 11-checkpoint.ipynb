{
 "cells": [
  {
   "cell_type": "code",
   "execution_count": 11,
   "id": "60fa88a9-c079-4b77-ae10-5649e5ac2090",
   "metadata": {},
   "outputs": [],
   "source": [
    "import tkinter as tk\n",
    "from tkinter import messagebox \n",
    "from PIL import Image, ImageTk\n",
    "\n",
    "def welcomeMessage(username):\n",
    "    # Create a Tkinter window \n",
    "    window = tk.Toplevel(root)\n",
    "    window.title(\"Admin Box\")\n",
    "    window.geometry(\"500x200\")\n",
    "    \n",
    "    label_1 = tk.label(window, text=f\"Welcome  {username}\\n\")\n",
    "    label_1.pack()\n",
    "    label_2 = tk.label(window, text=\"This is Python GUI with tkinker\")\n",
    "    label_2.pack()\n",
    "\n",
    "    #Run the Tkinter event loop \n",
    "    root.mainloop()\n",
    "\n",
    "def submit():\n",
    "    useername = username_entry.get()\n",
    "    password = password_entry.get()\n",
    "    if username == \"Mary\" and password == \"cos102\":\n",
    "        welcomeMessage(username)\n",
    "    else: messagebox.showerror(\"Login\", \"Invalid username or password\")"
   ]
  },
  {
   "cell_type": "code",
   "execution_count": 9,
   "id": "6d2c3cd4-e0cf-42a6-b192-da2cbb733048",
   "metadata": {},
   "outputs": [
    {
     "ename": "NameError",
     "evalue": "name 'submit' is not defined",
     "output_type": "error",
     "traceback": [
      "\u001b[1;31m---------------------------------------------------------------------------\u001b[0m",
      "\u001b[1;31mNameError\u001b[0m                                 Traceback (most recent call last)",
      "Cell \u001b[1;32mIn[9], line 21\u001b[0m\n\u001b[0;32m     17\u001b[0m password_entry\u001b[38;5;241m.\u001b[39mpack()\n\u001b[0;32m     20\u001b[0m \u001b[38;5;66;03m# Create submit button \u001b[39;00m\n\u001b[1;32m---> 21\u001b[0m submit_button \u001b[38;5;241m=\u001b[39m tk\u001b[38;5;241m.\u001b[39mButton(root, text\u001b[38;5;241m=\u001b[39m\u001b[38;5;124m\"\u001b[39m\u001b[38;5;124msubmit\u001b[39m\u001b[38;5;124m\"\u001b[39m, command\u001b[38;5;241m=\u001b[39msubmit)\n\u001b[0;32m     22\u001b[0m submit_button\u001b[38;5;241m.\u001b[39mpack()\n\u001b[0;32m     25\u001b[0m \u001b[38;5;66;03m#Run the main event loop \u001b[39;00m\n",
      "\u001b[1;31mNameError\u001b[0m: name 'submit' is not defined"
     ]
    }
   ],
   "source": [
    "import tkinter as tk \n",
    "root = tk.Tk()\n",
    "root.title(\"Login Form\")\n",
    "root.geometry(\"500x200\")\n",
    "\n",
    "\n",
    "# Create username label and entry \n",
    "username_label = tk.Label(root, text=\"Password:\")\n",
    "username_label.pack()\n",
    "username_entry = tk.Entry(root)\n",
    "username_entry.pack()\n",
    "\n",
    "# Create password label and entry \n",
    "password_label = tk.Label(root, text=\"Password:\")\n",
    "password_label.pack()\n",
    "password_entry = tk.Entry(root, show =\"*\")\n",
    "password_entry.pack()\n",
    "\n",
    "\n",
    "# Create submit button \n",
    "submit_button = tk.Button(root, text=\"submit\", command=submit)\n",
    "submit_button.pack()\n",
    "\n",
    "\n",
    "#Run the main event loop \n",
    "root.mainloop()\n",
    "                          \n",
    "                          \n"
   ]
  },
  {
   "cell_type": "code",
   "execution_count": null,
   "id": "8d190cc5-6811-4d73-bd55-8711f6dfbaf6",
   "metadata": {},
   "outputs": [],
   "source": []
  },
  {
   "cell_type": "code",
   "execution_count": null,
   "id": "631a1f53-28f2-40b0-bfeb-2b19860bcb3e",
   "metadata": {},
   "outputs": [],
   "source": []
  }
 ],
 "metadata": {
  "kernelspec": {
   "display_name": "Python 3 (ipykernel)",
   "language": "python",
   "name": "python3"
  },
  "language_info": {
   "codemirror_mode": {
    "name": "ipython",
    "version": 3
   },
   "file_extension": ".py",
   "mimetype": "text/x-python",
   "name": "python",
   "nbconvert_exporter": "python",
   "pygments_lexer": "ipython3",
   "version": "3.11.7"
  }
 },
 "nbformat": 4,
 "nbformat_minor": 5
}
