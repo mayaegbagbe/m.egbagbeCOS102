{
 "cells": [
  {
   "cell_type": "code",
   "execution_count": 1,
   "id": "60fa88a9-c079-4b77-ae10-5649e5ac2090",
   "metadata": {},
   "outputs": [],
   "source": [
    "import tkinter as tk\n",
    "from tkinter import messagebox \n",
    "from PIL import Image, ImageTk\n",
    "\n",
    "def welcomeMessage(username):\n",
    "    # Create a Tkinter window \n",
    "    window = tk.Toplevel(root)\n",
    "    window.title(\"Admin Box\")\n",
    "    window.geometry(\"500x200\")\n",
    "    \n",
    "    label_1 = tk.label(window, text=f\"Welcome  {username}\\n\")\n",
    "    label_1.pack()\n",
    "    label_2 = tk.label(window, text=\"This is Python GUI with tkinker\")\n",
    "    label_2.pack()\n",
    "\n",
    "    #Run the Tkinter event loop \n",
    "    root.mainloop()\n",
    "\n",
    "def submit():\n",
    "    useername = username_entry.get()\n",
    "    password = password_entry.get()\n",
    "    if username == \"Mary\" and password == \"cos102\":\n",
    "        welcomeMessage(username)\n",
    "    else: messagebox.showerror(\"Login\", \"Invalid username or password\")"
   ]
  },
  {
   "cell_type": "code",
   "execution_count": 2,
   "id": "6d2c3cd4-e0cf-42a6-b192-da2cbb733048",
   "metadata": {},
   "outputs": [],
   "source": [
    "import tkinter as tk \n",
    "root = tk.Tk()\n",
    "root.title(\"Login Form\")\n",
    "root.geometry(\"500x200\")\n",
    "\n",
    "\n",
    "# Create username label and entry \n",
    "username_label = tk.Label(root, text=\"Password:\")\n",
    "username_label.pack()\n",
    "username_entry = tk.Entry(root)\n",
    "username_entry.pack()\n",
    "\n",
    "# Create password label and entry \n",
    "password_label = tk.Label(root, text=\"Password:\")\n",
    "password_label.pack()\n",
    "password_entry = tk.Entry(root, show =\"*\")\n",
    "password_entry.pack()\n",
    "\n",
    "\n",
    "# Create submit button \n",
    "submit_button = tk.Button(root, text=\"submit\", command=submit)\n",
    "submit_button.pack()\n",
    "\n",
    "\n",
    "#Run the main event loop \n",
    "root.mainloop()\n",
    "                          \n",
    "                          \n"
   ]
  },
  {
   "cell_type": "code",
   "execution_count": null,
   "id": "8d190cc5-6811-4d73-bd55-8711f6dfbaf6",
   "metadata": {},
   "outputs": [],
   "source": []
  },
  {
   "cell_type": "code",
   "execution_count": null,
   "id": "631a1f53-28f2-40b0-bfeb-2b19860bcb3e",
   "metadata": {},
   "outputs": [],
   "source": []
  }
 ],
 "metadata": {
  "kernelspec": {
   "display_name": "Python 3 (ipykernel)",
   "language": "python",
   "name": "python3"
  },
  "language_info": {
   "codemirror_mode": {
    "name": "ipython",
    "version": 3
   },
   "file_extension": ".py",
   "mimetype": "text/x-python",
   "name": "python",
   "nbconvert_exporter": "python",
   "pygments_lexer": "ipython3",
   "version": "3.11.7"
  }
 },
 "nbformat": 4,
 "nbformat_minor": 5
}
