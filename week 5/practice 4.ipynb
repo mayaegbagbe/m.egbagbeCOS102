{
 "cells": [
  {
   "cell_type": "code",
   "execution_count": 15,
   "id": "42677261-7604-4aa8-9f15-ed812e525455",
   "metadata": {},
   "outputs": [],
   "source": [
    "def printme( str ):\n",
    "    #This prints a passed string \n",
    "    print (str); \n",
    "    return;\n",
    "    printme();"
   ]
  },
  {
   "cell_type": "code",
   "execution_count": 16,
   "id": "12f7517f-8b8c-451f-b8be-a01a8be08130",
   "metadata": {},
   "outputs": [
    {
     "name": "stdout",
     "output_type": "stream",
     "text": [
      "My string\n"
     ]
    }
   ],
   "source": [
    "def printme( str ):\n",
    "    #This prints a passed string \n",
    "    print (str);\n",
    "    return;\n",
    "printme( str = \"My string\");\n"
   ]
  },
  {
   "cell_type": "code",
   "execution_count": null,
   "id": "46af7ba8-ced0-4a27-a571-969a3d4014a7",
   "metadata": {},
   "outputs": [],
   "source": []
  },
  {
   "cell_type": "code",
   "execution_count": null,
   "id": "797dda0b-ec21-460c-8876-f3a71cd5fa64",
   "metadata": {},
   "outputs": [],
   "source": []
  }
 ],
 "metadata": {
  "kernelspec": {
   "display_name": "Python 3 (ipykernel)",
   "language": "python",
   "name": "python3"
  },
  "language_info": {
   "codemirror_mode": {
    "name": "ipython",
    "version": 3
   },
   "file_extension": ".py",
   "mimetype": "text/x-python",
   "name": "python",
   "nbconvert_exporter": "python",
   "pygments_lexer": "ipython3",
   "version": "3.11.7"
  }
 },
 "nbformat": 4,
 "nbformat_minor": 5
}
