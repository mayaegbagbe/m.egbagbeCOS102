{
 "cells": [
  {
   "cell_type": "code",
   "execution_count": null,
   "id": "d863714d-db9c-45f9-8bd9-78180cda4bfa",
   "metadata": {},
   "outputs": [],
   "source": [
    "# Puthon program to swap two cities\n",
    "\n",
    "# To take inputs from the user \n",
    "city_1 = input('Enter name of City 1: ')\n",
    "city_2 = input ('Enter name of City 2: ')\n",
    "\n",
    "# Create a temporary variable and swap the cities \n",
    "temp = city_1\n",
    "city_1 = city_2\n",
    "city_2 = temp\n",
    "\n",
    "print (f\"The name of city 1 after swapping is {city_1}\")\n",
    "print(f\"The name of city 2 after swapping is {city_2}\")"
   ]
  }
 ],
 "metadata": {
  "kernelspec": {
   "display_name": "Python 3 (ipykernel)",
   "language": "python",
   "name": "python3"
  },
  "language_info": {
   "codemirror_mode": {
    "name": "ipython",
    "version": 3
   },
   "file_extension": ".py",
   "mimetype": "text/x-python",
   "name": "python",
   "nbconvert_exporter": "python",
   "pygments_lexer": "ipython3",
   "version": "3.11.7"
  }
 },
 "nbformat": 4,
 "nbformat_minor": 5
}
