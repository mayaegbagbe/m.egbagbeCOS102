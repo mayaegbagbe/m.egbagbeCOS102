{
 "cells": [
  {
   "cell_type": "code",
   "execution_count": 3,
   "id": "f8885796-cee5-4e4a-a0c8-aef1f68610b7",
   "metadata": {},
   "outputs": [
    {
     "name": "stdin",
     "output_type": "stream",
     "text": [
      "Input years of experience 40\n",
      "Age of staff 44\n"
     ]
    },
    {
     "name": "stdout",
     "output_type": "stream",
     "text": [
      " Your ATR is 1500000 \n"
     ]
    }
   ],
   "source": [
    "years_of_experience = int(input(\"Input years of experience\"))\n",
    "age = int(input(\"Age of staff\"))\n",
    "\n",
    "if age >= 55 and years_of_experience >25:\n",
    "    atr = 5_600_000\n",
    "elif age >=45 and years_of_experience > 20:\n",
    "    atr = 4_480_000\n",
    "elif age >=35 and years_of_experience  >10:\n",
    "    atr =1_500_000\n",
    "else:\n",
    "    atr = 550_000\n",
    "print(f\" Your ATR is {atr} \")"
   ]
  },
  {
   "cell_type": "code",
   "execution_count": null,
   "id": "82823678-f222-48b4-88ce-a25973e33947",
   "metadata": {},
   "outputs": [],
   "source": []
  }
 ],
 "metadata": {
  "kernelspec": {
   "display_name": "Python 3 (ipykernel)",
   "language": "python",
   "name": "python3"
  },
  "language_info": {
   "codemirror_mode": {
    "name": "ipython",
    "version": 3
   },
   "file_extension": ".py",
   "mimetype": "text/x-python",
   "name": "python",
   "nbconvert_exporter": "python",
   "pygments_lexer": "ipython3",
   "version": "3.11.7"
  }
 },
 "nbformat": 4,
 "nbformat_minor": 5
}
