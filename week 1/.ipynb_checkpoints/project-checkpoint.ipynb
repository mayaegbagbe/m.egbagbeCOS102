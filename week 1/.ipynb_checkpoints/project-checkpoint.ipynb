{
 "cells": [
  {
   "cell_type": "code",
   "execution_count": 15,
   "id": "83b7e2ac-0ddb-4fb4-afac-9099c4d5c214",
   "metadata": {},
   "outputs": [],
   "source": [
    "def main():\n",
    "    while True:\n",
    "        question = input(\"What would you like to calculate. Simple Interest(S), Compound Interest(C), Annuity Plan(A): \")\n",
    "        \n",
    "        principle, rate_in_percentage, time = 0.0, 0.0, 0.0\n",
    "        variables = [principle, rate_in_percentage, time]\n",
    "        variable_names = [\"principle\", \"rate_in_percentage\", \"time\"]\n",
    "\n",
    "        if question.lower() not in [\"c\", \"a\", \"s\"]:\n",
    "            print(\"Invalid selection. Try again\")\n",
    "            continue\n",
    "        \n",
    "        for index in range(len(variables)):\n",
    "            variables[index] = float(input(\"Enter \" + str(variable_names[index]) + \": \"))\n",
    "\n",
    "            \n",
    "        if question.lower() in [\"c\", \"a\"]:\n",
    "            frequency = int(input(\"Enter frequency: \"))\n",
    "              \n",
    "        match question.lower():\n",
    "            case \"s\":\n",
    "                simple_interest(*variables)\n",
    "            case \"c\":\n",
    "                compound_interest(*variables, frequency)\n",
    "            case \"a\":\n",
    "                annuity_plan(*variables, frequency)\n",
    "            case _:\n",
    "                error()\n",
    "        break  \n",
    "\n",
    "def simple_interest(principle: float, rate: float, time: float):\n",
    "    print(\"Simple interest is \" + str(principle * (1 + (rate * time))))\n",
    "\n",
    "def compound_interest(principle: float, rate: float, time: float, frequency: int):\n",
    "    print(\"Compound Interest is \" + str(principle * (1 + (rate / frequency))**(frequency * rate)))\n",
    "\n",
    "def annuity_plan(principle: float, rate: float, time: float, frequency: int):\n",
    "    print(\"Annuity is \" + str(((rate / frequency)**(frequency * rate) - 1) / (rate / frequency)))\n",
    "\n",
    "def error():\n",
    "    print(\"Invalid selection. Try again\")\n",
    "\n",
    "main()"
   ]
  },
  {
   "cell_type": "code",
   "execution_count": 16,
   "id": "42e2b7d4-1e9e-46a0-968a-a2fdd9569cc4",
   "metadata": {},
   "outputs": [
    {
     "name": "stdin",
     "output_type": "stream",
     "text": [
      "What do you want to calculate Simple Interest (S), Compound Interest(C), Annutity Plan(A) S\n"
     ]
    }
   ],
   "source": []
  },
  {
   "cell_type": "code",
   "execution_count": null,
   "id": "d68708b9-d0fb-46f1-b914-5c0d3b71a1b7",
   "metadata": {},
   "outputs": [],
   "source": []
  }
 ],
 "metadata": {
  "kernelspec": {
   "display_name": "Python 3 (ipykernel)",
   "language": "python",
   "name": "python3"
  },
  "language_info": {
   "codemirror_mode": {
    "name": "ipython",
    "version": 3
   },
   "file_extension": ".py",
   "mimetype": "text/x-python",
   "name": "python",
   "nbconvert_exporter": "python",
   "pygments_lexer": "ipython3",
   "version": "3.11.7"
  }
 },
 "nbformat": 4,
 "nbformat_minor": 5
}
