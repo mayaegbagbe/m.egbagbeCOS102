{
 "cells": [
  {
   "cell_type": "code",
   "execution_count": 28,
   "id": "4de3ff2b-36cc-498b-80bd-83f162020d1e",
   "metadata": {},
   "outputs": [],
   "source": [
    "import cmath\n",
    "import math"
   ]
  },
  {
   "cell_type": "code",
   "execution_count": 29,
   "id": "7538cdde-39b9-48aa-ac54-fa3e6f62e3a6",
   "metadata": {},
   "outputs": [],
   "source": [
    "def quada,(a, b, c):\n",
    "    determinant = b ** 2 - (4 * a * c)\n",
    "    if determinant == 0: \n",
    "        answer = (-b + math.sqrt(determinant))/ (2 * a)\n",
    "        print(f\"The root of the equation '{a}x^2 + {b}x + {c}' is {answer}\")\n",
    "    elif determinant > 0:\n",
    "         answer = (-b + math.sqrt(determinant))/ (2 * a)\n",
    "         answer2 = (-b - math.sqrt(determinant))/ (2 * a)\n",
    "         print(f\"The roots of the equation '{a}x^2 + {b}x + {c}' are {answer}, {answer2}\")\n",
    "    else:\n",
    "         answer = (-b + cmath.sqrt(determinant))/ (2 * a)\n",
    "         answer2 = (-b - cmath.sqrt(determinant))/ (2 * a)\n",
    "         print(f\"The roots of the equation '{a}x^2 + {b}x + {c}' are {answer}, {answer2}\")\n",
    " "
   ]
  },
  {
   "cell_type": "code",
   "execution_count": 58,
   "id": "ecfdc653-7120-4e24-8b30-668433cda9c5",
   "metadata": {},
   "outputs": [
    {
     "ename": "SyntaxError",
     "evalue": "invalid syntax. Perhaps you forgot a comma? (2389045207.py, line 12)",
     "output_type": "error",
     "traceback": [
      "\u001b[1;36m  Cell \u001b[1;32mIn[58], line 12\u001b[1;36m\u001b[0m\n\u001b[1;33m    quadratic_c = ((real_root *2) a) , (b * real_root) + c\u001b[0m\n\u001b[1;37m                    ^\u001b[0m\n\u001b[1;31mSyntaxError\u001b[0m\u001b[1;31m:\u001b[0m invalid syntax. Perhaps you forgot a comma?\n"
     ]
    }
   ],
   "source": [
    "def cubic(a, b, c, d):\n",
    "    y_coefficient = (c - ((b**2) / (3*a))) / a \n",
    "    constant = (d + ((2*(b*3)) / (27(a**2))) - ((b*c) / (3*a))) / a\n",
    "    print(f\"The depressed cubic equation is y^3 + {y_coefficient}y + {constant}\")\n",
    "\n",
    "    t = (constant + math.sqrt( (constant*2) + (4((y_coefficient**3)/27)) ) ) / 2\n",
    "    s = (-constant + t)**(1/3)\n",
    "    t = t**(1/3)\n",
    "    \n",
    "    real_root = (s - t) - (b/(3*a)) \n",
    "    quadratic_b = (real_root * a) + b\n",
    "    quadratic_c = ((real_root *2) a) , (b * real_root) + c\n",
    "\n",
    "    print(f\"The real root is {real_root}\")\n",
    "    print(\"and\")\n",
    "    quad(a, quadratic_b, quadratic_c)\n",
    "\n",
    "\n",
    "\n",
    "\n",
    "\n"
   ]
  },
  {
   "cell_type": "code",
   "execution_count": 53,
   "id": "ea9068b3-7791-4601-8846-4ab0978c628e",
   "metadata": {},
   "outputs": [
    {
     "ename": "SyntaxError",
     "evalue": "invalid syntax. Perhaps you forgot a comma? (714863337.py, line 3)",
     "output_type": "error",
     "traceback": [
      "\u001b[1;36m  Cell \u001b[1;32mIn[53], line 3\u001b[1;36m\u001b[0m\n\u001b[1;33m    p2 = p1 + math.sqrt(-4*(c*2 - 3*b*d + 12*a*e)3 + p1*2)\u001b[0m\n\u001b[1;37m                        ^\u001b[0m\n\u001b[1;31mSyntaxError\u001b[0m\u001b[1;31m:\u001b[0m invalid syntax. Perhaps you forgot a comma?\n"
     ]
    }
   ],
   "source": [
    "def quartic(a, b, c, d, e):\n",
    "    p1 = 2*c*3 - 9*b*c*d + 27*a*d2 + 27*b*2*e - 72*a*c*e\n",
    "    p2 = p1 + math.sqrt(-4*(c*2 - 3*b*d + 12*a*e)3 + p1*2)\n",
    "    p3 = (c*2 - 3*b*d + 12*a*e) / (3*a3 * math.sqrt(p2*2)) + 3 * math.sqrt(p2/2) / (3*a)\n",
    "    p4 = (math.sqrt(b*2) / (4*a*2)) - (2*c / (3*a)) + p3\n",
    "    p5 = (b*2 / (2*a*2)) - (4*c / (3*a)) - p3\n",
    "    p6 = (-b*3 / a3) + (4*b*c / a*2) - (8*d / a) / (4*p4)\n",
    "      \n",
    "    x1 = (-b / (4*a)) - (p4 / 2) - math.sqrt(p5 - p6) / 2\n",
    "    x2 = (-b / (4*a)) - (p4 / 2) + math.sqrt(p5 - p6) / 2\n",
    "    x3 = (-b / (4*a)) + (p4 / 2) - math.sqrt(p5 + p6) / 2\n",
    "    x4 = (-b / (4*a)) + (p4 / 2) + math.sqrt(p5 + p6) / 2\n",
    "\n",
    "    print(\"x1 =\", x1)\n",
    "    print(\"x2 =\", x2)\n",
    "    print(\"x3 =\", x3)\n",
    "    print(\"x4 =\", x4)\n",
    "   \n",
    "    def main():\n",
    "    response = int(input(\"What's the degree of the polynomial you wish to solve(2,3 or 4)\"))\n",
    "    \n",
    "    if response < 2 or response > 4: \n",
    "        print(\"Unsuported calculation\")\n",
    "        main()\n",
    "    \n",
    "    a = float(input(\"Enter value of a\"))\n",
    "    b = float(input(\"Enter value of b\"))\n",
    "    c = float(input(\"Enter value of c\"))\n",
    "    \n",
    "   \n",
    "    if response == 2:\n",
    "        quad(a,b,c)\n",
    "    elif:\n",
    "        d = float(input(\"Enter Value of d\"))\n",
    "        if response == 3:\n",
    "            cubic(a,b,c,d)\n",
    "            \n",
    "        else:\n",
    "            e = float(input(\"Enter value of e\"))\n",
    "            quartic(a,b,c,d,e)\n",
    "\n",
    "main()\n"
   ]
  },
  {
   "cell_type": "code",
   "execution_count": null,
   "id": "7a716837-a641-4d72-84c7-fe78a4fb28c5",
   "metadata": {},
   "outputs": [],
   "source": []
  }
 ],
 "metadata": {
  "kernelspec": {
   "display_name": "Python 3 (ipykernel)",
   "language": "python",
   "name": "python3"
  },
  "language_info": {
   "codemirror_mode": {
    "name": "ipython",
    "version": 3
   },
   "file_extension": ".py",
   "mimetype": "text/x-python",
   "name": "python",
   "nbconvert_exporter": "python",
   "pygments_lexer": "ipython3",
   "version": "3.11.7"
  }
 },
 "nbformat": 4,
 "nbformat_minor": 5
}
